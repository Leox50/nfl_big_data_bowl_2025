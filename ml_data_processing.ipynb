{
 "cells": [
  {
   "cell_type": "code",
   "execution_count": 206,
   "metadata": {},
   "outputs": [],
   "source": [
    "import pandas as pd\n",
    "import numpy as np\n",
    "from datetime import timedelta"
   ]
  },
  {
   "cell_type": "code",
   "execution_count": 207,
   "metadata": {},
   "outputs": [],
   "source": [
    "#for all that events need to find the closest player"
   ]
  },
  {
   "cell_type": "code",
   "execution_count": 208,
   "metadata": {},
   "outputs": [],
   "source": [
    "project_dir = '/Users/volodymyr.kotov/Desktop/Kaggle/nfl_big_data_bowl_2025/data/nfl-big-data-bowl-2025'"
   ]
  },
  {
   "cell_type": "code",
   "execution_count": 209,
   "metadata": {},
   "outputs": [],
   "source": [
    "games = pd.read_csv(f'{project_dir}/games.csv')\n",
    "plays = pd.read_csv(f'{project_dir}/plays.csv')\n",
    "players = pd.read_csv(f'{project_dir}/players.csv')"
   ]
  },
  {
   "cell_type": "code",
   "execution_count": 259,
   "metadata": {},
   "outputs": [],
   "source": [
    "week = 3\n",
    "tracking_df = pd.read_csv(f'{project_dir}/tracking_week_{week}.csv')\n",
    "tracking_df['tracking_week'] = week"
   ]
  },
  {
   "cell_type": "code",
   "execution_count": 260,
   "metadata": {},
   "outputs": [],
   "source": [
    "tracking_df_extended = tracking_df.copy()\n",
    "tracking_df_extended['uid'] = tracking_df_extended.index\n",
    "\n",
    "tracking_df_pass_events = tracking_df_extended[\n",
    "    (tracking_df_extended['event'].isin(\n",
    "                [\n",
    "                    'pass_forward', \n",
    "                    'pass_arrived', \n",
    "                    'pass_outcome_incomplete', \n",
    "                    'pass_outcome_caught', \n",
    "                    'pass_outcome_interception', \n",
    "                    'qb_strip_sack'\n",
    "                ]\n",
    "            )\n",
    "        ) \n",
    "        #& \n",
    "    #(tracking_df_extended['displayName'] == 'football')\n",
    "]\n"
   ]
  },
  {
   "cell_type": "code",
   "execution_count": 261,
   "metadata": {},
   "outputs": [],
   "source": [
    "#currently it will produce only a join to football player (a ball) and will show the event type\n",
    "\n",
    "tracking_df_pass_events = pd.merge(\n",
    "    tracking_df_pass_events,\n",
    "    players,\n",
    "    on=['nflId', 'displayName'],\n",
    "    how='left'\n",
    ")\n",
    "\n",
    "\n",
    "#add a column is_qb  \n",
    "tracking_df_pass_events['is_qb'] = np.where(\n",
    "    tracking_df_pass_events['position'] == 'QB', True, False\n",
    ")"
   ]
  },
  {
   "cell_type": "code",
   "execution_count": 262,
   "metadata": {},
   "outputs": [],
   "source": [
    "fin_pass = tracking_df_pass_events[tracking_df_pass_events['event'] == 'pass_forward']"
   ]
  },
  {
   "cell_type": "code",
   "execution_count": 263,
   "metadata": {},
   "outputs": [],
   "source": [
    "check = tracking_df_pass_events.groupby(['gameId', 'playId'])['is_qb'].nunique().reset_index()\n",
    "data_check = check[check['is_qb'] == 1]"
   ]
  },
  {
   "cell_type": "code",
   "execution_count": 264,
   "metadata": {},
   "outputs": [],
   "source": [
    "fin_pass = pd.merge(\n",
    "    fin_pass,\n",
    "    plays,\n",
    "    on=['gameId', 'playId'],\n",
    "    how='left'\n",
    ")"
   ]
  },
  {
   "cell_type": "code",
   "execution_count": 265,
   "metadata": {},
   "outputs": [
    {
     "name": "stderr",
     "output_type": "stream",
     "text": [
      "/var/folders/mv/18wf18mn1c9bkwrp3fxhqr9c0000gp/T/ipykernel_53267/1004931420.py:20: DeprecationWarning: DataFrameGroupBy.apply operated on the grouping columns. This behavior is deprecated, and in a future version of pandas the grouping columns will be excluded from the operation. Either pass `include_groups=False` to exclude the groupings or explicitly select the grouping columns after groupby to silence this warning.\n",
      "  & ~(fin_pass['y'].isna())][group_columns].groupby(['gameId', 'playId']).apply(calculate_distances)\n"
     ]
    }
   ],
   "source": [
    "def calculate_distances(group):\n",
    "    team_a = group[group['possessionTeam'] == group['club']]\n",
    "    team_b = group[group['possessionTeam'] != group['club']]\n",
    "    \n",
    "    position_QB = team_a[team_a['position'] == 'QB'][['x', 'y']].values[0]\n",
    "    for idx, row in team_a.iterrows():\n",
    "        group.at[idx, f\"QB_distance_{row['position']}\"] = np.sqrt((row['x'] - position_QB[0])**2 + (row['y'] - position_QB[1])**2)\n",
    "\n",
    "    for idx, row in group.iterrows():\n",
    "        if row['possessionTeam'] == row['club']:  \n",
    "            opponent_distances = np.sqrt((team_b['x'] - row['x'])**2 + (team_b['y'] - row['y'])**2)\n",
    "            group.at[idx, f\"{row['position']}_closest_opponent_distance\"] = opponent_distances.min()\n",
    "    \n",
    "    return group\n",
    "\n",
    "group_columns = ['gameId', 'playId', 'x', 'y', 'club', 'possessionTeam', 'position']\n",
    "df_result = fin_pass[\n",
    "    (~fin_pass['gameId'].isin(data_check['gameId']))\n",
    "    & ~(fin_pass['x'].isna())\n",
    "    & ~(fin_pass['y'].isna())][group_columns].groupby(['gameId', 'playId']).apply(calculate_distances)\n",
    "\n",
    "df_result.reset_index(drop=True, inplace=True)"
   ]
  },
  {
   "cell_type": "code",
   "execution_count": 266,
   "metadata": {},
   "outputs": [],
   "source": [
    "end_pass = tracking_df_pass_events[tracking_df_pass_events['event'] != 'pass_forward']\n",
    "end_pass = pd.merge(\n",
    "    end_pass,\n",
    "    plays,\n",
    "    on=['gameId', 'playId'],\n",
    "    how='left'\n",
    ")"
   ]
  },
  {
   "cell_type": "code",
   "execution_count": 267,
   "metadata": {},
   "outputs": [],
   "source": [
    "def get_closest_receiver(group):\n",
    "\n",
    "    position_football = group[group['displayName'] == 'football'][['x', 'y']].values[0]\n",
    "\n",
    "    for idx, row in group[~group['position'].isin(['QB', None])].iterrows():\n",
    "        if row['possessionTeam'] == row['club'] and row['displayName'] != 'football':\n",
    "            opponent_distances = group[\n",
    "                (~group['position'].isin(['QB', None]))\n",
    "                & (~group['position'].isna())].apply(\n",
    "                lambda _row: {\n",
    "                    'distance': np.sqrt((_row['x'] - position_football[0])**2 + (_row['y'] - position_football[1])**2),\n",
    "                    'position': _row['position']\n",
    "                },\n",
    "                axis=1\n",
    "            ).tolist()\n",
    "\n",
    "            closest_opponent = min(opponent_distances, key=lambda x: x['distance'])\n",
    "            \n",
    "            group.at[idx, \"football_closest_opponent_distance\"] = closest_opponent['distance']\n",
    "            group.at[idx, \"football_closest_opponent_position\"] = closest_opponent['position']\n",
    "\n",
    "    return group\n",
    "    \n",
    "    "
   ]
  },
  {
   "cell_type": "code",
   "execution_count": 268,
   "metadata": {},
   "outputs": [
    {
     "data": {
      "text/html": [
       "<div>\n",
       "<style scoped>\n",
       "    .dataframe tbody tr th:only-of-type {\n",
       "        vertical-align: middle;\n",
       "    }\n",
       "\n",
       "    .dataframe tbody tr th {\n",
       "        vertical-align: top;\n",
       "    }\n",
       "\n",
       "    .dataframe thead th {\n",
       "        text-align: right;\n",
       "    }\n",
       "</style>\n",
       "<table border=\"1\" class=\"dataframe\">\n",
       "  <thead>\n",
       "    <tr style=\"text-align: right;\">\n",
       "      <th></th>\n",
       "      <th>gameId</th>\n",
       "      <th>playId</th>\n",
       "      <th>nflId</th>\n",
       "      <th>displayName</th>\n",
       "      <th>frameId</th>\n",
       "      <th>frameType</th>\n",
       "      <th>time</th>\n",
       "      <th>jerseyNumber</th>\n",
       "      <th>club</th>\n",
       "      <th>playDirection</th>\n",
       "      <th>...</th>\n",
       "      <th>yardsGained</th>\n",
       "      <th>homeTeamWinProbabilityAdded</th>\n",
       "      <th>visitorTeamWinProbilityAdded</th>\n",
       "      <th>expectedPointsAdded</th>\n",
       "      <th>isDropback</th>\n",
       "      <th>pff_runConceptPrimary</th>\n",
       "      <th>pff_runConceptSecondary</th>\n",
       "      <th>pff_runPassOption</th>\n",
       "      <th>pff_passCoverage</th>\n",
       "      <th>pff_manZone</th>\n",
       "    </tr>\n",
       "  </thead>\n",
       "  <tbody>\n",
       "    <tr>\n",
       "      <th>44</th>\n",
       "      <td>2022092600</td>\n",
       "      <td>57</td>\n",
       "      <td>NaN</td>\n",
       "      <td>football</td>\n",
       "      <td>157</td>\n",
       "      <td>AFTER_SNAP</td>\n",
       "      <td>2022-09-27 00:16:24.1</td>\n",
       "      <td>NaN</td>\n",
       "      <td>football</td>\n",
       "      <td>left</td>\n",
       "      <td>...</td>\n",
       "      <td>15</td>\n",
       "      <td>-0.015140</td>\n",
       "      <td>0.015140</td>\n",
       "      <td>1.016368</td>\n",
       "      <td>True</td>\n",
       "      <td>MAN</td>\n",
       "      <td>NaN</td>\n",
       "      <td>0</td>\n",
       "      <td>Cover-3</td>\n",
       "      <td>Zone</td>\n",
       "    </tr>\n",
       "    <tr>\n",
       "      <th>45</th>\n",
       "      <td>2022092600</td>\n",
       "      <td>57</td>\n",
       "      <td>NaN</td>\n",
       "      <td>football</td>\n",
       "      <td>160</td>\n",
       "      <td>AFTER_SNAP</td>\n",
       "      <td>2022-09-27 00:16:24.4</td>\n",
       "      <td>NaN</td>\n",
       "      <td>football</td>\n",
       "      <td>left</td>\n",
       "      <td>...</td>\n",
       "      <td>15</td>\n",
       "      <td>-0.015140</td>\n",
       "      <td>0.015140</td>\n",
       "      <td>1.016368</td>\n",
       "      <td>True</td>\n",
       "      <td>MAN</td>\n",
       "      <td>NaN</td>\n",
       "      <td>0</td>\n",
       "      <td>Cover-3</td>\n",
       "      <td>Zone</td>\n",
       "    </tr>\n",
       "    <tr>\n",
       "      <th>90</th>\n",
       "      <td>2022092600</td>\n",
       "      <td>160</td>\n",
       "      <td>NaN</td>\n",
       "      <td>football</td>\n",
       "      <td>203</td>\n",
       "      <td>AFTER_SNAP</td>\n",
       "      <td>2022-09-27 00:19:03.3</td>\n",
       "      <td>NaN</td>\n",
       "      <td>football</td>\n",
       "      <td>left</td>\n",
       "      <td>...</td>\n",
       "      <td>0</td>\n",
       "      <td>0.042287</td>\n",
       "      <td>-0.042287</td>\n",
       "      <td>-1.261845</td>\n",
       "      <td>True</td>\n",
       "      <td>UNDEFINED</td>\n",
       "      <td>NaN</td>\n",
       "      <td>0</td>\n",
       "      <td>Cover-3</td>\n",
       "      <td>Zone</td>\n",
       "    </tr>\n",
       "    <tr>\n",
       "      <th>91</th>\n",
       "      <td>2022092600</td>\n",
       "      <td>160</td>\n",
       "      <td>NaN</td>\n",
       "      <td>football</td>\n",
       "      <td>211</td>\n",
       "      <td>AFTER_SNAP</td>\n",
       "      <td>2022-09-27 00:19:04.1</td>\n",
       "      <td>NaN</td>\n",
       "      <td>football</td>\n",
       "      <td>left</td>\n",
       "      <td>...</td>\n",
       "      <td>0</td>\n",
       "      <td>0.042287</td>\n",
       "      <td>-0.042287</td>\n",
       "      <td>-1.261845</td>\n",
       "      <td>True</td>\n",
       "      <td>UNDEFINED</td>\n",
       "      <td>NaN</td>\n",
       "      <td>0</td>\n",
       "      <td>Cover-3</td>\n",
       "      <td>Zone</td>\n",
       "    </tr>\n",
       "    <tr>\n",
       "      <th>136</th>\n",
       "      <td>2022092600</td>\n",
       "      <td>182</td>\n",
       "      <td>NaN</td>\n",
       "      <td>football</td>\n",
       "      <td>228</td>\n",
       "      <td>AFTER_SNAP</td>\n",
       "      <td>2022-09-27 00:19:49.8</td>\n",
       "      <td>NaN</td>\n",
       "      <td>football</td>\n",
       "      <td>left</td>\n",
       "      <td>...</td>\n",
       "      <td>4</td>\n",
       "      <td>0.031340</td>\n",
       "      <td>-0.031340</td>\n",
       "      <td>-1.290083</td>\n",
       "      <td>True</td>\n",
       "      <td>NaN</td>\n",
       "      <td>NaN</td>\n",
       "      <td>0</td>\n",
       "      <td>2-Man</td>\n",
       "      <td>Man</td>\n",
       "    </tr>\n",
       "    <tr>\n",
       "      <th>...</th>\n",
       "      <td>...</td>\n",
       "      <td>...</td>\n",
       "      <td>...</td>\n",
       "      <td>...</td>\n",
       "      <td>...</td>\n",
       "      <td>...</td>\n",
       "      <td>...</td>\n",
       "      <td>...</td>\n",
       "      <td>...</td>\n",
       "      <td>...</td>\n",
       "      <td>...</td>\n",
       "      <td>...</td>\n",
       "      <td>...</td>\n",
       "      <td>...</td>\n",
       "      <td>...</td>\n",
       "      <td>...</td>\n",
       "      <td>...</td>\n",
       "      <td>...</td>\n",
       "      <td>...</td>\n",
       "      <td>...</td>\n",
       "      <td>...</td>\n",
       "    </tr>\n",
       "    <tr>\n",
       "      <th>44596</th>\n",
       "      <td>2022092200</td>\n",
       "      <td>3858</td>\n",
       "      <td>NaN</td>\n",
       "      <td>football</td>\n",
       "      <td>128</td>\n",
       "      <td>AFTER_SNAP</td>\n",
       "      <td>2022-09-23 03:05:10.9</td>\n",
       "      <td>NaN</td>\n",
       "      <td>football</td>\n",
       "      <td>left</td>\n",
       "      <td>...</td>\n",
       "      <td>5</td>\n",
       "      <td>0.009796</td>\n",
       "      <td>-0.009796</td>\n",
       "      <td>0.059397</td>\n",
       "      <td>True</td>\n",
       "      <td>NaN</td>\n",
       "      <td>NaN</td>\n",
       "      <td>0</td>\n",
       "      <td>Quarters</td>\n",
       "      <td>Zone</td>\n",
       "    </tr>\n",
       "    <tr>\n",
       "      <th>44641</th>\n",
       "      <td>2022092200</td>\n",
       "      <td>3925</td>\n",
       "      <td>NaN</td>\n",
       "      <td>football</td>\n",
       "      <td>161</td>\n",
       "      <td>AFTER_SNAP</td>\n",
       "      <td>2022-09-23 03:08:07.4</td>\n",
       "      <td>NaN</td>\n",
       "      <td>football</td>\n",
       "      <td>left</td>\n",
       "      <td>...</td>\n",
       "      <td>0</td>\n",
       "      <td>0.030585</td>\n",
       "      <td>-0.030585</td>\n",
       "      <td>-1.184124</td>\n",
       "      <td>True</td>\n",
       "      <td>NaN</td>\n",
       "      <td>NaN</td>\n",
       "      <td>0</td>\n",
       "      <td>Quarters</td>\n",
       "      <td>Zone</td>\n",
       "    </tr>\n",
       "    <tr>\n",
       "      <th>44642</th>\n",
       "      <td>2022092200</td>\n",
       "      <td>3925</td>\n",
       "      <td>NaN</td>\n",
       "      <td>football</td>\n",
       "      <td>166</td>\n",
       "      <td>AFTER_SNAP</td>\n",
       "      <td>2022-09-23 03:08:07.9</td>\n",
       "      <td>NaN</td>\n",
       "      <td>football</td>\n",
       "      <td>left</td>\n",
       "      <td>...</td>\n",
       "      <td>0</td>\n",
       "      <td>0.030585</td>\n",
       "      <td>-0.030585</td>\n",
       "      <td>-1.184124</td>\n",
       "      <td>True</td>\n",
       "      <td>NaN</td>\n",
       "      <td>NaN</td>\n",
       "      <td>0</td>\n",
       "      <td>Quarters</td>\n",
       "      <td>Zone</td>\n",
       "    </tr>\n",
       "    <tr>\n",
       "      <th>44687</th>\n",
       "      <td>2022092200</td>\n",
       "      <td>4183</td>\n",
       "      <td>NaN</td>\n",
       "      <td>football</td>\n",
       "      <td>108</td>\n",
       "      <td>AFTER_SNAP</td>\n",
       "      <td>2022-09-23 03:24:58.2</td>\n",
       "      <td>NaN</td>\n",
       "      <td>football</td>\n",
       "      <td>left</td>\n",
       "      <td>...</td>\n",
       "      <td>-4</td>\n",
       "      <td>0.006967</td>\n",
       "      <td>-0.006967</td>\n",
       "      <td>-7.056592</td>\n",
       "      <td>True</td>\n",
       "      <td>NaN</td>\n",
       "      <td>NaN</td>\n",
       "      <td>0</td>\n",
       "      <td>Prevent</td>\n",
       "      <td>Other</td>\n",
       "    </tr>\n",
       "    <tr>\n",
       "      <th>44688</th>\n",
       "      <td>2022092200</td>\n",
       "      <td>4183</td>\n",
       "      <td>NaN</td>\n",
       "      <td>football</td>\n",
       "      <td>113</td>\n",
       "      <td>AFTER_SNAP</td>\n",
       "      <td>2022-09-23 03:24:58.7</td>\n",
       "      <td>NaN</td>\n",
       "      <td>football</td>\n",
       "      <td>left</td>\n",
       "      <td>...</td>\n",
       "      <td>-4</td>\n",
       "      <td>0.006967</td>\n",
       "      <td>-0.006967</td>\n",
       "      <td>-7.056592</td>\n",
       "      <td>True</td>\n",
       "      <td>NaN</td>\n",
       "      <td>NaN</td>\n",
       "      <td>0</td>\n",
       "      <td>Prevent</td>\n",
       "      <td>Other</td>\n",
       "    </tr>\n",
       "  </tbody>\n",
       "</table>\n",
       "<p>1943 rows × 74 columns</p>\n",
       "</div>"
      ],
      "text/plain": [
       "           gameId  playId  nflId displayName  frameId   frameType  \\\n",
       "44     2022092600      57    NaN    football      157  AFTER_SNAP   \n",
       "45     2022092600      57    NaN    football      160  AFTER_SNAP   \n",
       "90     2022092600     160    NaN    football      203  AFTER_SNAP   \n",
       "91     2022092600     160    NaN    football      211  AFTER_SNAP   \n",
       "136    2022092600     182    NaN    football      228  AFTER_SNAP   \n",
       "...           ...     ...    ...         ...      ...         ...   \n",
       "44596  2022092200    3858    NaN    football      128  AFTER_SNAP   \n",
       "44641  2022092200    3925    NaN    football      161  AFTER_SNAP   \n",
       "44642  2022092200    3925    NaN    football      166  AFTER_SNAP   \n",
       "44687  2022092200    4183    NaN    football      108  AFTER_SNAP   \n",
       "44688  2022092200    4183    NaN    football      113  AFTER_SNAP   \n",
       "\n",
       "                        time  jerseyNumber      club playDirection  ...  \\\n",
       "44     2022-09-27 00:16:24.1           NaN  football          left  ...   \n",
       "45     2022-09-27 00:16:24.4           NaN  football          left  ...   \n",
       "90     2022-09-27 00:19:03.3           NaN  football          left  ...   \n",
       "91     2022-09-27 00:19:04.1           NaN  football          left  ...   \n",
       "136    2022-09-27 00:19:49.8           NaN  football          left  ...   \n",
       "...                      ...           ...       ...           ...  ...   \n",
       "44596  2022-09-23 03:05:10.9           NaN  football          left  ...   \n",
       "44641  2022-09-23 03:08:07.4           NaN  football          left  ...   \n",
       "44642  2022-09-23 03:08:07.9           NaN  football          left  ...   \n",
       "44687  2022-09-23 03:24:58.2           NaN  football          left  ...   \n",
       "44688  2022-09-23 03:24:58.7           NaN  football          left  ...   \n",
       "\n",
       "       yardsGained  homeTeamWinProbabilityAdded  visitorTeamWinProbilityAdded  \\\n",
       "44              15                    -0.015140                      0.015140   \n",
       "45              15                    -0.015140                      0.015140   \n",
       "90               0                     0.042287                     -0.042287   \n",
       "91               0                     0.042287                     -0.042287   \n",
       "136              4                     0.031340                     -0.031340   \n",
       "...            ...                          ...                           ...   \n",
       "44596            5                     0.009796                     -0.009796   \n",
       "44641            0                     0.030585                     -0.030585   \n",
       "44642            0                     0.030585                     -0.030585   \n",
       "44687           -4                     0.006967                     -0.006967   \n",
       "44688           -4                     0.006967                     -0.006967   \n",
       "\n",
       "       expectedPointsAdded  isDropback  pff_runConceptPrimary  \\\n",
       "44                1.016368        True                    MAN   \n",
       "45                1.016368        True                    MAN   \n",
       "90               -1.261845        True              UNDEFINED   \n",
       "91               -1.261845        True              UNDEFINED   \n",
       "136              -1.290083        True                    NaN   \n",
       "...                    ...         ...                    ...   \n",
       "44596             0.059397        True                    NaN   \n",
       "44641            -1.184124        True                    NaN   \n",
       "44642            -1.184124        True                    NaN   \n",
       "44687            -7.056592        True                    NaN   \n",
       "44688            -7.056592        True                    NaN   \n",
       "\n",
       "       pff_runConceptSecondary pff_runPassOption  pff_passCoverage  \\\n",
       "44                         NaN                 0           Cover-3   \n",
       "45                         NaN                 0           Cover-3   \n",
       "90                         NaN                 0           Cover-3   \n",
       "91                         NaN                 0           Cover-3   \n",
       "136                        NaN                 0             2-Man   \n",
       "...                        ...               ...               ...   \n",
       "44596                      NaN                 0          Quarters   \n",
       "44641                      NaN                 0          Quarters   \n",
       "44642                      NaN                 0          Quarters   \n",
       "44687                      NaN                 0           Prevent   \n",
       "44688                      NaN                 0           Prevent   \n",
       "\n",
       "       pff_manZone  \n",
       "44            Zone  \n",
       "45            Zone  \n",
       "90            Zone  \n",
       "91            Zone  \n",
       "136            Man  \n",
       "...            ...  \n",
       "44596         Zone  \n",
       "44641         Zone  \n",
       "44642         Zone  \n",
       "44687        Other  \n",
       "44688        Other  \n",
       "\n",
       "[1943 rows x 74 columns]"
      ]
     },
     "execution_count": 268,
     "metadata": {},
     "output_type": "execute_result"
    }
   ],
   "source": [
    "end_pass[end_pass['displayName'] == 'football']"
   ]
  },
  {
   "cell_type": "code",
   "execution_count": 269,
   "metadata": {},
   "outputs": [
    {
     "name": "stderr",
     "output_type": "stream",
     "text": [
      "/var/folders/mv/18wf18mn1c9bkwrp3fxhqr9c0000gp/T/ipykernel_53267/3924892220.py:5: DeprecationWarning: DataFrameGroupBy.apply operated on the grouping columns. This behavior is deprecated, and in a future version of pandas the grouping columns will be excluded from the operation. Either pass `include_groups=False` to exclude the groupings or explicitly select the grouping columns after groupby to silence this warning.\n",
      "  & ~(end_pass['y'].isna())][group_columns].groupby(['gameId', 'playId']).apply(get_closest_receiver)\n"
     ]
    }
   ],
   "source": [
    "group_columns = ['gameId', 'playId', 'x', 'y', 'club', 'possessionTeam', 'position', 'displayName']\n",
    "df_football_result = end_pass[\n",
    "    (~end_pass['gameId'].isin(data_check['gameId']))\n",
    "    & ~(end_pass['x'].isna())\n",
    "    & ~(end_pass['y'].isna())][group_columns].groupby(['gameId', 'playId']).apply(get_closest_receiver)\n",
    "\n",
    "df_football_result.reset_index(drop=True, inplace=True)"
   ]
  },
  {
   "cell_type": "code",
   "execution_count": 270,
   "metadata": {},
   "outputs": [],
   "source": [
    "df_result.fillna(0, inplace=True)"
   ]
  },
  {
   "cell_type": "code",
   "execution_count": 271,
   "metadata": {},
   "outputs": [],
   "source": [
    "lst = [col for col in df_result.columns if 'distance' in col]\n",
    "lst.extend(['gameId', 'playId'])"
   ]
  },
  {
   "cell_type": "code",
   "execution_count": 272,
   "metadata": {},
   "outputs": [],
   "source": [
    "final_result = df_result[lst].groupby(['gameId', 'playId']).max().reset_index()\n",
    "final_result = pd.merge(\n",
    "    final_result,\n",
    "    plays,\n",
    "    on=['gameId', 'playId'],\n",
    "    how='left'\n",
    ")\n",
    "\n",
    "football_result = df_football_result[['gameId', 'playId', 'football_closest_opponent_position']].groupby(['gameId', 'playId']).first().reset_index()\n",
    "\n",
    "final_result = pd.merge(\n",
    "    final_result,\n",
    "    football_result,\n",
    "    on=['gameId', 'playId'],\n",
    "    how='left'\n",
    ")"
   ]
  },
  {
   "cell_type": "code",
   "execution_count": 273,
   "metadata": {},
   "outputs": [],
   "source": [
    "final_result = pd.merge(\n",
    "    final_result,\n",
    "    games[games['week'] == week],\n",
    "    on='gameId'\n",
    ")\n",
    "\n",
    "final_result['isHome'] = np.where(\n",
    "    final_result['homeTeamAbbr'] == final_result['possessionTeam'],\n",
    "    1, 0\n",
    ")\n",
    "\n",
    "final_result['pass_success'] = np.where(\n",
    "    final_result['passResult'] == 'C', 1, 0\n",
    ")\n",
    "\n",
    "final_result_columns = [\n",
    "    'gameId', 'playId', 'QB_distance_WR', 'QB_distance_G', 'QB_distance_T',\n",
    "    'QB_distance_TE', 'QB_distance_C', 'QB_distance_QB', 'QB_distance_RB',\n",
    "    'WR_closest_opponent_distance', 'G_closest_opponent_distance',\n",
    "    'T_closest_opponent_distance', 'TE_closest_opponent_distance',\n",
    "    'C_closest_opponent_distance', 'QB_closest_opponent_distance',\n",
    "    'RB_closest_opponent_distance', 'QB_distance_FB',\n",
    "    'FB_closest_opponent_distance', 'football_closest_opponent_position',\n",
    "    'offenseFormation', 'possessionTeam', 'defensiveTeam', 'preSnapHomeTeamWinProbability',\n",
    "    'preSnapHomeScore', 'preSnapVisitorScore', 'preSnapHomeTeamWinProbability', 'isHome', 'pass_success', 'week'\n",
    "]\n",
    "\n",
    "final_result['week'] = week\n"
   ]
  },
  {
   "cell_type": "code",
   "execution_count": 274,
   "metadata": {},
   "outputs": [],
   "source": [
    "final_result[final_result_columns].to_csv(f'final_tracking_df_week_{week}.csv', index=False)"
   ]
  },
  {
   "cell_type": "code",
   "execution_count": 276,
   "metadata": {},
   "outputs": [
    {
     "name": "stderr",
     "output_type": "stream",
     "text": [
      "/var/folders/mv/18wf18mn1c9bkwrp3fxhqr9c0000gp/T/ipykernel_53267/323296307.py:56: DeprecationWarning: DataFrameGroupBy.apply operated on the grouping columns. This behavior is deprecated, and in a future version of pandas the grouping columns will be excluded from the operation. Either pass `include_groups=False` to exclude the groupings or explicitly select the grouping columns after groupby to silence this warning.\n",
      "  & ~(fin_pass['y'].isna())][group_columns].groupby(['gameId', 'playId']).apply(calculate_distances)\n",
      "/var/folders/mv/18wf18mn1c9bkwrp3fxhqr9c0000gp/T/ipykernel_53267/323296307.py:72: DeprecationWarning: DataFrameGroupBy.apply operated on the grouping columns. This behavior is deprecated, and in a future version of pandas the grouping columns will be excluded from the operation. Either pass `include_groups=False` to exclude the groupings or explicitly select the grouping columns after groupby to silence this warning.\n",
      "  & ~(end_pass['y'].isna())][group_columns].groupby(['gameId', 'playId']).apply(get_closest_receiver)\n"
     ]
    },
    {
     "name": "stdout",
     "output_type": "stream",
     "text": [
      "week 1 is ready\n"
     ]
    },
    {
     "name": "stderr",
     "output_type": "stream",
     "text": [
      "/var/folders/mv/18wf18mn1c9bkwrp3fxhqr9c0000gp/T/ipykernel_53267/323296307.py:56: DeprecationWarning: DataFrameGroupBy.apply operated on the grouping columns. This behavior is deprecated, and in a future version of pandas the grouping columns will be excluded from the operation. Either pass `include_groups=False` to exclude the groupings or explicitly select the grouping columns after groupby to silence this warning.\n",
      "  & ~(fin_pass['y'].isna())][group_columns].groupby(['gameId', 'playId']).apply(calculate_distances)\n",
      "/var/folders/mv/18wf18mn1c9bkwrp3fxhqr9c0000gp/T/ipykernel_53267/323296307.py:72: DeprecationWarning: DataFrameGroupBy.apply operated on the grouping columns. This behavior is deprecated, and in a future version of pandas the grouping columns will be excluded from the operation. Either pass `include_groups=False` to exclude the groupings or explicitly select the grouping columns after groupby to silence this warning.\n",
      "  & ~(end_pass['y'].isna())][group_columns].groupby(['gameId', 'playId']).apply(get_closest_receiver)\n"
     ]
    },
    {
     "name": "stdout",
     "output_type": "stream",
     "text": [
      "week 2 is ready\n"
     ]
    },
    {
     "name": "stderr",
     "output_type": "stream",
     "text": [
      "/var/folders/mv/18wf18mn1c9bkwrp3fxhqr9c0000gp/T/ipykernel_53267/323296307.py:56: DeprecationWarning: DataFrameGroupBy.apply operated on the grouping columns. This behavior is deprecated, and in a future version of pandas the grouping columns will be excluded from the operation. Either pass `include_groups=False` to exclude the groupings or explicitly select the grouping columns after groupby to silence this warning.\n",
      "  & ~(fin_pass['y'].isna())][group_columns].groupby(['gameId', 'playId']).apply(calculate_distances)\n",
      "/var/folders/mv/18wf18mn1c9bkwrp3fxhqr9c0000gp/T/ipykernel_53267/323296307.py:72: DeprecationWarning: DataFrameGroupBy.apply operated on the grouping columns. This behavior is deprecated, and in a future version of pandas the grouping columns will be excluded from the operation. Either pass `include_groups=False` to exclude the groupings or explicitly select the grouping columns after groupby to silence this warning.\n",
      "  & ~(end_pass['y'].isna())][group_columns].groupby(['gameId', 'playId']).apply(get_closest_receiver)\n"
     ]
    },
    {
     "name": "stdout",
     "output_type": "stream",
     "text": [
      "week 3 is ready\n"
     ]
    },
    {
     "name": "stderr",
     "output_type": "stream",
     "text": [
      "/var/folders/mv/18wf18mn1c9bkwrp3fxhqr9c0000gp/T/ipykernel_53267/323296307.py:56: DeprecationWarning: DataFrameGroupBy.apply operated on the grouping columns. This behavior is deprecated, and in a future version of pandas the grouping columns will be excluded from the operation. Either pass `include_groups=False` to exclude the groupings or explicitly select the grouping columns after groupby to silence this warning.\n",
      "  & ~(fin_pass['y'].isna())][group_columns].groupby(['gameId', 'playId']).apply(calculate_distances)\n",
      "/var/folders/mv/18wf18mn1c9bkwrp3fxhqr9c0000gp/T/ipykernel_53267/323296307.py:72: DeprecationWarning: DataFrameGroupBy.apply operated on the grouping columns. This behavior is deprecated, and in a future version of pandas the grouping columns will be excluded from the operation. Either pass `include_groups=False` to exclude the groupings or explicitly select the grouping columns after groupby to silence this warning.\n",
      "  & ~(end_pass['y'].isna())][group_columns].groupby(['gameId', 'playId']).apply(get_closest_receiver)\n"
     ]
    },
    {
     "name": "stdout",
     "output_type": "stream",
     "text": [
      "week 4 is ready\n"
     ]
    },
    {
     "name": "stderr",
     "output_type": "stream",
     "text": [
      "/var/folders/mv/18wf18mn1c9bkwrp3fxhqr9c0000gp/T/ipykernel_53267/323296307.py:56: DeprecationWarning: DataFrameGroupBy.apply operated on the grouping columns. This behavior is deprecated, and in a future version of pandas the grouping columns will be excluded from the operation. Either pass `include_groups=False` to exclude the groupings or explicitly select the grouping columns after groupby to silence this warning.\n",
      "  & ~(fin_pass['y'].isna())][group_columns].groupby(['gameId', 'playId']).apply(calculate_distances)\n",
      "/var/folders/mv/18wf18mn1c9bkwrp3fxhqr9c0000gp/T/ipykernel_53267/323296307.py:72: DeprecationWarning: DataFrameGroupBy.apply operated on the grouping columns. This behavior is deprecated, and in a future version of pandas the grouping columns will be excluded from the operation. Either pass `include_groups=False` to exclude the groupings or explicitly select the grouping columns after groupby to silence this warning.\n",
      "  & ~(end_pass['y'].isna())][group_columns].groupby(['gameId', 'playId']).apply(get_closest_receiver)\n"
     ]
    },
    {
     "name": "stdout",
     "output_type": "stream",
     "text": [
      "week 5 is ready\n"
     ]
    },
    {
     "name": "stderr",
     "output_type": "stream",
     "text": [
      "/var/folders/mv/18wf18mn1c9bkwrp3fxhqr9c0000gp/T/ipykernel_53267/323296307.py:56: DeprecationWarning: DataFrameGroupBy.apply operated on the grouping columns. This behavior is deprecated, and in a future version of pandas the grouping columns will be excluded from the operation. Either pass `include_groups=False` to exclude the groupings or explicitly select the grouping columns after groupby to silence this warning.\n",
      "  & ~(fin_pass['y'].isna())][group_columns].groupby(['gameId', 'playId']).apply(calculate_distances)\n",
      "/var/folders/mv/18wf18mn1c9bkwrp3fxhqr9c0000gp/T/ipykernel_53267/323296307.py:72: DeprecationWarning: DataFrameGroupBy.apply operated on the grouping columns. This behavior is deprecated, and in a future version of pandas the grouping columns will be excluded from the operation. Either pass `include_groups=False` to exclude the groupings or explicitly select the grouping columns after groupby to silence this warning.\n",
      "  & ~(end_pass['y'].isna())][group_columns].groupby(['gameId', 'playId']).apply(get_closest_receiver)\n"
     ]
    },
    {
     "name": "stdout",
     "output_type": "stream",
     "text": [
      "week 6 is ready\n"
     ]
    },
    {
     "name": "stderr",
     "output_type": "stream",
     "text": [
      "/var/folders/mv/18wf18mn1c9bkwrp3fxhqr9c0000gp/T/ipykernel_53267/323296307.py:56: DeprecationWarning: DataFrameGroupBy.apply operated on the grouping columns. This behavior is deprecated, and in a future version of pandas the grouping columns will be excluded from the operation. Either pass `include_groups=False` to exclude the groupings or explicitly select the grouping columns after groupby to silence this warning.\n",
      "  & ~(fin_pass['y'].isna())][group_columns].groupby(['gameId', 'playId']).apply(calculate_distances)\n",
      "/var/folders/mv/18wf18mn1c9bkwrp3fxhqr9c0000gp/T/ipykernel_53267/323296307.py:72: DeprecationWarning: DataFrameGroupBy.apply operated on the grouping columns. This behavior is deprecated, and in a future version of pandas the grouping columns will be excluded from the operation. Either pass `include_groups=False` to exclude the groupings or explicitly select the grouping columns after groupby to silence this warning.\n",
      "  & ~(end_pass['y'].isna())][group_columns].groupby(['gameId', 'playId']).apply(get_closest_receiver)\n"
     ]
    },
    {
     "name": "stdout",
     "output_type": "stream",
     "text": [
      "week 7 is ready\n"
     ]
    },
    {
     "name": "stderr",
     "output_type": "stream",
     "text": [
      "/var/folders/mv/18wf18mn1c9bkwrp3fxhqr9c0000gp/T/ipykernel_53267/323296307.py:56: DeprecationWarning: DataFrameGroupBy.apply operated on the grouping columns. This behavior is deprecated, and in a future version of pandas the grouping columns will be excluded from the operation. Either pass `include_groups=False` to exclude the groupings or explicitly select the grouping columns after groupby to silence this warning.\n",
      "  & ~(fin_pass['y'].isna())][group_columns].groupby(['gameId', 'playId']).apply(calculate_distances)\n",
      "/var/folders/mv/18wf18mn1c9bkwrp3fxhqr9c0000gp/T/ipykernel_53267/323296307.py:72: DeprecationWarning: DataFrameGroupBy.apply operated on the grouping columns. This behavior is deprecated, and in a future version of pandas the grouping columns will be excluded from the operation. Either pass `include_groups=False` to exclude the groupings or explicitly select the grouping columns after groupby to silence this warning.\n",
      "  & ~(end_pass['y'].isna())][group_columns].groupby(['gameId', 'playId']).apply(get_closest_receiver)\n"
     ]
    },
    {
     "name": "stdout",
     "output_type": "stream",
     "text": [
      "week 8 is ready\n"
     ]
    },
    {
     "name": "stderr",
     "output_type": "stream",
     "text": [
      "/var/folders/mv/18wf18mn1c9bkwrp3fxhqr9c0000gp/T/ipykernel_53267/323296307.py:56: DeprecationWarning: DataFrameGroupBy.apply operated on the grouping columns. This behavior is deprecated, and in a future version of pandas the grouping columns will be excluded from the operation. Either pass `include_groups=False` to exclude the groupings or explicitly select the grouping columns after groupby to silence this warning.\n",
      "  & ~(fin_pass['y'].isna())][group_columns].groupby(['gameId', 'playId']).apply(calculate_distances)\n"
     ]
    },
    {
     "name": "stdout",
     "output_type": "stream",
     "text": [
      "week 9 is ready\n"
     ]
    },
    {
     "name": "stderr",
     "output_type": "stream",
     "text": [
      "/var/folders/mv/18wf18mn1c9bkwrp3fxhqr9c0000gp/T/ipykernel_53267/323296307.py:72: DeprecationWarning: DataFrameGroupBy.apply operated on the grouping columns. This behavior is deprecated, and in a future version of pandas the grouping columns will be excluded from the operation. Either pass `include_groups=False` to exclude the groupings or explicitly select the grouping columns after groupby to silence this warning.\n",
      "  & ~(end_pass['y'].isna())][group_columns].groupby(['gameId', 'playId']).apply(get_closest_receiver)\n"
     ]
    }
   ],
   "source": [
    "final_df = pd.DataFrame()\n",
    "\n",
    "for week in range(1, 10):\n",
    "    tracking_df = pd.read_csv(f'{project_dir}/tracking_week_{week}.csv')\n",
    "    tracking_df['tracking_week'] = week\n",
    "    tracking_df_extended = tracking_df.copy()\n",
    "    tracking_df_extended['uid'] = tracking_df_extended.index\n",
    "\n",
    "    tracking_df_pass_events = tracking_df_extended[\n",
    "        (tracking_df_extended['event'].isin(\n",
    "                    [\n",
    "                        'pass_forward', \n",
    "                        'pass_arrived', \n",
    "                        'pass_outcome_incomplete', \n",
    "                        'pass_outcome_caught', \n",
    "                        'pass_outcome_interception', \n",
    "                        'qb_strip_sack'\n",
    "                    ]\n",
    "                )\n",
    "            ) \n",
    "            #& \n",
    "        #(tracking_df_extended['displayName'] == 'football')\n",
    "    ]\n",
    "    \n",
    "    #currently it will produce only a join to football player (a ball) and will show the event type\n",
    "\n",
    "    tracking_df_pass_events = pd.merge(\n",
    "        tracking_df_pass_events,\n",
    "        players,\n",
    "        on=['nflId', 'displayName'],\n",
    "        how='left'\n",
    "    )\n",
    "\n",
    "\n",
    "    #add a column is_qb  \n",
    "    tracking_df_pass_events['is_qb'] = np.where(\n",
    "        tracking_df_pass_events['position'] == 'QB', True, False\n",
    "    )\n",
    "\n",
    "    fin_pass = tracking_df_pass_events[tracking_df_pass_events['event'] == 'pass_forward']\n",
    "\n",
    "    check = tracking_df_pass_events.groupby(['gameId', 'playId'])['is_qb'].nunique().reset_index()\n",
    "    data_check = check[check['is_qb'] == 1]\n",
    "\n",
    "    fin_pass = pd.merge(\n",
    "        fin_pass,\n",
    "        plays,\n",
    "        on=['gameId', 'playId'],\n",
    "        how='left'\n",
    "    )\n",
    "\n",
    "    group_columns = ['gameId', 'playId', 'x', 'y', 'club', 'possessionTeam', 'position']\n",
    "    df_result = fin_pass[\n",
    "        (~fin_pass['gameId'].isin(data_check['gameId']))\n",
    "        & ~(fin_pass['x'].isna())\n",
    "        & ~(fin_pass['y'].isna())][group_columns].groupby(['gameId', 'playId']).apply(calculate_distances)\n",
    "\n",
    "    df_result.reset_index(drop=True, inplace=True)\n",
    "\n",
    "    end_pass = tracking_df_pass_events[tracking_df_pass_events['event'] != 'pass_forward']\n",
    "    end_pass = pd.merge(\n",
    "        end_pass,\n",
    "        plays,\n",
    "        on=['gameId', 'playId'],\n",
    "        how='left'\n",
    "    )\n",
    "\n",
    "    group_columns = ['gameId', 'playId', 'x', 'y', 'club', 'possessionTeam', 'position', 'displayName']\n",
    "    df_football_result = end_pass[\n",
    "        (~end_pass['gameId'].isin(data_check['gameId']))\n",
    "        & ~(end_pass['x'].isna())\n",
    "        & ~(end_pass['y'].isna())][group_columns].groupby(['gameId', 'playId']).apply(get_closest_receiver)\n",
    "\n",
    "    df_football_result.reset_index(drop=True, inplace=True)\n",
    "\n",
    "    df_result.fillna(0, inplace=True)\n",
    "\n",
    "    lst = [col for col in df_result.columns if 'distance' in col]\n",
    "    lst.extend(['gameId', 'playId'])\n",
    "\n",
    "    final_result = df_result[lst].groupby(['gameId', 'playId']).max().reset_index()\n",
    "    final_result = pd.merge(\n",
    "        final_result,\n",
    "        plays,\n",
    "        on=['gameId', 'playId'],\n",
    "        how='left'\n",
    "    )\n",
    "\n",
    "    football_result = df_football_result[['gameId', 'playId', 'football_closest_opponent_position']].groupby(['gameId', 'playId']).first().reset_index()\n",
    "\n",
    "    final_result = pd.merge(\n",
    "        final_result,\n",
    "        football_result,\n",
    "        on=['gameId', 'playId'],\n",
    "        how='left'\n",
    "    )\n",
    "\n",
    "    final_result = pd.merge(\n",
    "        final_result,\n",
    "        games[games['week'] == week],\n",
    "        on='gameId'\n",
    "    )\n",
    "\n",
    "    final_result['isHome'] = np.where(\n",
    "        final_result['homeTeamAbbr'] == final_result['possessionTeam'],\n",
    "        1, 0\n",
    "    )\n",
    "\n",
    "    final_result['pass_success'] = np.where(\n",
    "        final_result['passResult'] == 'C', 1, 0\n",
    "    )\n",
    "\n",
    "    final_result_columns = [\n",
    "        'gameId', 'playId', 'QB_distance_WR', 'QB_distance_G', 'QB_distance_T',\n",
    "        'QB_distance_TE', 'QB_distance_C', 'QB_distance_QB', 'QB_distance_RB',\n",
    "        'WR_closest_opponent_distance', 'G_closest_opponent_distance',\n",
    "        'T_closest_opponent_distance', 'TE_closest_opponent_distance',\n",
    "        'C_closest_opponent_distance', 'QB_closest_opponent_distance',\n",
    "        'RB_closest_opponent_distance', 'QB_distance_FB',\n",
    "        'FB_closest_opponent_distance', 'football_closest_opponent_position',\n",
    "        'offenseFormation', 'possessionTeam', 'defensiveTeam', 'preSnapHomeTeamWinProbability',\n",
    "        'preSnapHomeScore', 'preSnapVisitorScore', 'preSnapHomeTeamWinProbability', 'isHome', 'pass_success', 'week'\n",
    "    ]\n",
    "\n",
    "    final_result['week'] = week\n",
    "\n",
    "    final_df = pd.concat([final_df, final_result])\n",
    "    print(f'week {week} is ready')\n"
   ]
  },
  {
   "cell_type": "code",
   "execution_count": 277,
   "metadata": {},
   "outputs": [],
   "source": [
    "final_df[final_result_columns].to_csv('final_df.csv', index=False)"
   ]
  },
  {
   "cell_type": "markdown",
   "metadata": {},
   "source": [
    "### Preparing Dataset"
   ]
  },
  {
   "cell_type": "markdown",
   "metadata": {},
   "source": [
    "### Training Model"
   ]
  },
  {
   "cell_type": "code",
   "execution_count": 322,
   "metadata": {},
   "outputs": [],
   "source": [
    "df = pd.read_csv('final_df.csv')"
   ]
  },
  {
   "cell_type": "code",
   "execution_count": 323,
   "metadata": {},
   "outputs": [],
   "source": [
    "df.drop(columns=['preSnapHomeTeamWinProbability.1', 'QB_distance_QB'], inplace=True)"
   ]
  },
  {
   "cell_type": "code",
   "execution_count": 324,
   "metadata": {},
   "outputs": [],
   "source": [
    "from sklearn.preprocessing import StandardScaler\n",
    "\n",
    "scaler = StandardScaler()\n",
    "cols_to_stand = [col for col in df.columns if 'distance' in col]\n",
    "categorical_cols = [col for col in df.columns if 'distance' not in col]\n",
    "df[cols_to_stand] = scaler.fit_transform(df[cols_to_stand])"
   ]
  },
  {
   "cell_type": "code",
   "execution_count": 325,
   "metadata": {},
   "outputs": [],
   "source": [
    "import lightgbm as lgb"
   ]
  },
  {
   "cell_type": "code",
   "execution_count": 328,
   "metadata": {},
   "outputs": [],
   "source": [
    "from sklearn.preprocessing import LabelEncoder\n",
    "\n",
    "\n",
    "categorical_cols = ['football_closest_opponent_position', 'offenseFormation', 'possessionTeam', 'defensiveTeam']\n",
    "\n",
    "le = LabelEncoder()\n",
    "\n",
    "label_encoders = {}\n",
    "for col in categorical_cols:\n",
    "    le = LabelEncoder()\n",
    "    df[col] = le.fit_transform(df[col])\n",
    "    label_encoders[col] = le "
   ]
  },
  {
   "cell_type": "code",
   "execution_count": 329,
   "metadata": {},
   "outputs": [],
   "source": [
    "from sklearn.model_selection import train_test_split\n",
    "X_train, X_test, y_train, y_test = train_test_split(df.drop(columns=['pass_success']), df['pass_success'], test_size = 0.3, random_state = 0)"
   ]
  },
  {
   "cell_type": "code",
   "execution_count": 336,
   "metadata": {},
   "outputs": [],
   "source": [
    "train_data = lgb.Dataset(X_train, label=y_train, categorical_feature=categorical_cols)\n",
    "test_data = lgb.Dataset(X_test, label=y_test, reference=train_data, categorical_feature=categorical_cols)"
   ]
  },
  {
   "cell_type": "code",
   "execution_count": 337,
   "metadata": {},
   "outputs": [
    {
     "name": "stdout",
     "output_type": "stream",
     "text": [
      "[LightGBM] [Info] Number of positive: 3775, number of negative: 2072\n",
      "[LightGBM] [Info] Auto-choosing row-wise multi-threading, the overhead of testing was 0.000835 seconds.\n",
      "You can set `force_row_wise=true` to remove the overhead.\n",
      "And if memory is not enough, you can set `force_col_wise=true`.\n",
      "[LightGBM] [Info] Total Bins 4409\n",
      "[LightGBM] [Info] Number of data points in the train set: 5847, number of used features: 26\n",
      "[LightGBM] [Info] [binary:BoostFromScore]: pavg=0.645630 -> initscore=0.599886\n",
      "[LightGBM] [Info] Start training from score 0.599886\n"
     ]
    }
   ],
   "source": [
    "params = {\n",
    "    'objective': 'binary',\n",
    "    'metric': 'binary_logloss',\n",
    "    'boosting_type': 'gbdt',\n",
    "    'num_leaves': 120,\n",
    "    'learning_rate': 0.05,\n",
    "}\n",
    "\n",
    "\n",
    "num_round = 100\n",
    "model = lgb.train(params, train_data, valid_sets=[test_data], num_boost_round=100)\n",
    "                \n",
    "#model_init.fit(train_data, y_train)"
   ]
  },
  {
   "cell_type": "code",
   "execution_count": 338,
   "metadata": {},
   "outputs": [
    {
     "name": "stdout",
     "output_type": "stream",
     "text": [
      "Precision: 0.7621333333333333, Recall: 0.8903426791277259\n"
     ]
    }
   ],
   "source": [
    "from sklearn.metrics import precision_score, recall_score\n",
    "\n",
    "y_pred = (model.predict(X_test) > 0.5).astype(int)\n",
    "\n",
    "precision = precision_score(y_test, y_pred)\n",
    "recall = recall_score(y_test, y_pred)\n",
    "\n",
    "print(f\"Precision: {precision}, Recall: {recall}\")"
   ]
  }
 ],
 "metadata": {
  "kernelspec": {
   "display_name": "nfl_big_data_bowl_2025",
   "language": "python",
   "name": "python3"
  },
  "language_info": {
   "codemirror_mode": {
    "name": "ipython",
    "version": 3
   },
   "file_extension": ".py",
   "mimetype": "text/x-python",
   "name": "python",
   "nbconvert_exporter": "python",
   "pygments_lexer": "ipython3",
   "version": "3.13.1"
  }
 },
 "nbformat": 4,
 "nbformat_minor": 2
}
