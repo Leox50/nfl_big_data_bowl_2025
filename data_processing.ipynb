{
 "cells": [
  {
   "cell_type": "code",
   "execution_count": 1,
   "metadata": {},
   "outputs": [],
   "source": [
    "import pandas as pd\n",
    "import numpy as np\n",
    "from datetime import timedelta"
   ]
  },
  {
   "cell_type": "code",
   "execution_count": 2,
   "metadata": {},
   "outputs": [],
   "source": [
    "project_dir = '/Users/volodymyr.kotov/Desktop/Kaggle/nfl_big_data_bowl_2025/data/nfl-big-data-bowl-2025'"
   ]
  },
  {
   "cell_type": "code",
   "execution_count": 3,
   "metadata": {},
   "outputs": [],
   "source": [
    "games = pd.read_csv(f'{project_dir}/games.csv')\n",
    "plays = pd.read_csv(f'{project_dir}/plays.csv')\n",
    "players = pd.read_csv(f'{project_dir}/players.csv')"
   ]
  },
  {
   "cell_type": "code",
   "execution_count": 86,
   "metadata": {},
   "outputs": [],
   "source": [
    "week = 9\n",
    "tracking_df = pd.read_csv(f'{project_dir}/tracking_week_{week}.csv')\n",
    "tracking_df['tracking_week'] = week"
   ]
  },
  {
   "cell_type": "code",
   "execution_count": 87,
   "metadata": {},
   "outputs": [],
   "source": [
    "def get_speed(distance: float, time, lead_event_time) -> None:\n",
    "    \"\"\"gets speed in yards/second\"\"\"\n",
    "    if not pd.isna(lead_event_time) and not pd.isna(time):\n",
    "        time_delta = (lead_event_time - time).total_seconds()\n",
    "        if time_delta > 0:\n",
    "            return distance / time_delta\n",
    "    return None\n",
    "\n",
    "def get_distance(x: float, x_pass_landed: float, y: float, y_pass_landed: float) -> None:\n",
    "    \"\"\"gets distance in yards\"\"\"\n",
    "    return np.pow(\n",
    "            (\n",
    "                np.pow((x - x_pass_landed), 2) + \n",
    "                np.pow((y - y_pass_landed), 2)\n",
    "            ),\n",
    "        0.5\n",
    "    )"
   ]
  },
  {
   "cell_type": "code",
   "execution_count": 88,
   "metadata": {},
   "outputs": [
    {
     "data": {
      "text/plain": [
       "5671685"
      ]
     },
     "execution_count": 88,
     "metadata": {},
     "output_type": "execute_result"
    }
   ],
   "source": [
    "tracking_df.shape[0]"
   ]
  },
  {
   "cell_type": "code",
   "execution_count": 89,
   "metadata": {},
   "outputs": [
    {
     "name": "stderr",
     "output_type": "stream",
     "text": [
      "/var/folders/mv/18wf18mn1c9bkwrp3fxhqr9c0000gp/T/ipykernel_22054/1137521624.py:19: SettingWithCopyWarning: \n",
      "A value is trying to be set on a copy of a slice from a DataFrame.\n",
      "Try using .loc[row_indexer,col_indexer] = value instead\n",
      "\n",
      "See the caveats in the documentation: https://pandas.pydata.org/pandas-docs/stable/user_guide/indexing.html#returning-a-view-versus-a-copy\n",
      "  tracking_df_pass_events['lead_event'] = tracking_df_pass_events.groupby(['gameId', 'playId'])['event'].shift(-1)\n",
      "/var/folders/mv/18wf18mn1c9bkwrp3fxhqr9c0000gp/T/ipykernel_22054/1137521624.py:20: SettingWithCopyWarning: \n",
      "A value is trying to be set on a copy of a slice from a DataFrame.\n",
      "Try using .loc[row_indexer,col_indexer] = value instead\n",
      "\n",
      "See the caveats in the documentation: https://pandas.pydata.org/pandas-docs/stable/user_guide/indexing.html#returning-a-view-versus-a-copy\n",
      "  tracking_df_pass_events['lead_event_time'] = tracking_df_pass_events.groupby(['gameId', 'playId'])['time'].shift(-1)\n",
      "/var/folders/mv/18wf18mn1c9bkwrp3fxhqr9c0000gp/T/ipykernel_22054/1137521624.py:21: SettingWithCopyWarning: \n",
      "A value is trying to be set on a copy of a slice from a DataFrame.\n",
      "Try using .loc[row_indexer,col_indexer] = value instead\n",
      "\n",
      "See the caveats in the documentation: https://pandas.pydata.org/pandas-docs/stable/user_guide/indexing.html#returning-a-view-versus-a-copy\n",
      "  tracking_df_pass_events['x_pass_landed'] = tracking_df_pass_events.groupby(['gameId', 'playId'])['x'].shift(-1)\n",
      "/var/folders/mv/18wf18mn1c9bkwrp3fxhqr9c0000gp/T/ipykernel_22054/1137521624.py:22: SettingWithCopyWarning: \n",
      "A value is trying to be set on a copy of a slice from a DataFrame.\n",
      "Try using .loc[row_indexer,col_indexer] = value instead\n",
      "\n",
      "See the caveats in the documentation: https://pandas.pydata.org/pandas-docs/stable/user_guide/indexing.html#returning-a-view-versus-a-copy\n",
      "  tracking_df_pass_events['y_pass_landed'] = tracking_df_pass_events.groupby(['gameId', 'playId'])['y'].shift(-1)\n"
     ]
    }
   ],
   "source": [
    "tracking_df_extended = tracking_df.copy()\n",
    "tracking_df_extended['uid'] = tracking_df_extended.index\n",
    "\n",
    "tracking_df_pass_events = tracking_df_extended[\n",
    "    (tracking_df_extended['event'].isin(\n",
    "                [\n",
    "                    'pass_forward', \n",
    "                    'pass_arrived', \n",
    "                    'pass_outcome_incomplete', \n",
    "                    'pass_outcome_caught', \n",
    "                    'pass_outcome_interception', \n",
    "                    'qb_strip_sack'\n",
    "                ]\n",
    "            )\n",
    "        ) & \n",
    "    (tracking_df_extended['displayName'] == 'football')\n",
    "]\n",
    "\n",
    "tracking_df_pass_events['lead_event'] = tracking_df_pass_events.groupby(['gameId', 'playId'])['event'].shift(-1)\n",
    "tracking_df_pass_events['lead_event_time'] = tracking_df_pass_events.groupby(['gameId', 'playId'])['time'].shift(-1)\n",
    "tracking_df_pass_events['x_pass_landed'] = tracking_df_pass_events.groupby(['gameId', 'playId'])['x'].shift(-1)\n",
    "tracking_df_pass_events['y_pass_landed'] = tracking_df_pass_events.groupby(['gameId', 'playId'])['y'].shift(-1)"
   ]
  },
  {
   "cell_type": "code",
   "execution_count": 90,
   "metadata": {},
   "outputs": [],
   "source": [
    "#currently it will produce only a join to football player (a ball) and will show the event type\n",
    "tracking_df_extended = pd.merge(\n",
    "    tracking_df_extended,\n",
    "    tracking_df_pass_events[['uid', 'lead_event', 'lead_event_time', 'x_pass_landed', 'y_pass_landed']],\n",
    "    on='uid',\n",
    "    how='left'\n",
    ")\n",
    "\n",
    "tracking_df_extended = pd.merge(\n",
    "    tracking_df_extended,\n",
    "    players,\n",
    "    on=['nflId', 'displayName'],\n",
    "    how='left'\n",
    ")\n",
    "\n",
    "\n",
    "#add a column is_qb  \n",
    "tracking_df_extended['is_qb'] = np.where(\n",
    "    tracking_df_extended['position'] == 'QB', True, False\n",
    ")"
   ]
  },
  {
   "cell_type": "code",
   "execution_count": 91,
   "metadata": {},
   "outputs": [],
   "source": [
    "tracking_df_extended['distance'] = tracking_df_extended[['x', 'x_pass_landed', 'y', 'y_pass_landed']].apply(\n",
    "    lambda row: get_distance(row['x'], row['x_pass_landed'], row['y'], row['y_pass_landed']), \n",
    "    axis=1\n",
    ")"
   ]
  },
  {
   "cell_type": "code",
   "execution_count": 92,
   "metadata": {},
   "outputs": [],
   "source": [
    "tracking_df_extended['time'] = pd.to_datetime(tracking_df_extended['time'], format='mixed')\n",
    "tracking_df_extended['lead_event_time'] = pd.to_datetime(tracking_df_extended['lead_event_time'], format='mixed')"
   ]
  },
  {
   "cell_type": "code",
   "execution_count": 93,
   "metadata": {},
   "outputs": [],
   "source": [
    "tracking_df_extended['speed'] = tracking_df_extended.apply(\n",
    "    lambda row: get_speed(row['distance'], row['time'], row['lead_event_time']), \n",
    "    axis=1\n",
    ")"
   ]
  },
  {
   "cell_type": "code",
   "execution_count": 94,
   "metadata": {},
   "outputs": [
    {
     "data": {
      "text/plain": [
       "5671685"
      ]
     },
     "execution_count": 94,
     "metadata": {},
     "output_type": "execute_result"
    }
   ],
   "source": [
    "tracking_df_extended.shape[0]"
   ]
  },
  {
   "cell_type": "code",
   "execution_count": 95,
   "metadata": {},
   "outputs": [],
   "source": [
    "tracking_df_extended.to_csv(f'tracking_week_{week}_extended.csv', index=False)"
   ]
  },
  {
   "cell_type": "code",
   "execution_count": 99,
   "metadata": {},
   "outputs": [],
   "source": [
    "project_dir = '/Users/volodymyr.kotov/Desktop/Kaggle/nfl_big_data_bowl_2025'"
   ]
  },
  {
   "cell_type": "code",
   "execution_count": 100,
   "metadata": {},
   "outputs": [
    {
     "name": "stderr",
     "output_type": "stream",
     "text": [
      "/var/folders/mv/18wf18mn1c9bkwrp3fxhqr9c0000gp/T/ipykernel_22054/356917563.py:3: DtypeWarning: Columns (20,21) have mixed types. Specify dtype option on import or set low_memory=False.\n",
      "  temp_df = pd.read_csv(f'{project_dir}/tracking_week_{week}_extended.csv')\n",
      "/var/folders/mv/18wf18mn1c9bkwrp3fxhqr9c0000gp/T/ipykernel_22054/356917563.py:3: DtypeWarning: Columns (20,21) have mixed types. Specify dtype option on import or set low_memory=False.\n",
      "  temp_df = pd.read_csv(f'{project_dir}/tracking_week_{week}_extended.csv')\n",
      "/var/folders/mv/18wf18mn1c9bkwrp3fxhqr9c0000gp/T/ipykernel_22054/356917563.py:3: DtypeWarning: Columns (20,21) have mixed types. Specify dtype option on import or set low_memory=False.\n",
      "  temp_df = pd.read_csv(f'{project_dir}/tracking_week_{week}_extended.csv')\n",
      "/var/folders/mv/18wf18mn1c9bkwrp3fxhqr9c0000gp/T/ipykernel_22054/356917563.py:3: DtypeWarning: Columns (20,21) have mixed types. Specify dtype option on import or set low_memory=False.\n",
      "  temp_df = pd.read_csv(f'{project_dir}/tracking_week_{week}_extended.csv')\n",
      "/var/folders/mv/18wf18mn1c9bkwrp3fxhqr9c0000gp/T/ipykernel_22054/356917563.py:3: DtypeWarning: Columns (20,21) have mixed types. Specify dtype option on import or set low_memory=False.\n",
      "  temp_df = pd.read_csv(f'{project_dir}/tracking_week_{week}_extended.csv')\n",
      "/var/folders/mv/18wf18mn1c9bkwrp3fxhqr9c0000gp/T/ipykernel_22054/356917563.py:3: DtypeWarning: Columns (20,21) have mixed types. Specify dtype option on import or set low_memory=False.\n",
      "  temp_df = pd.read_csv(f'{project_dir}/tracking_week_{week}_extended.csv')\n",
      "/var/folders/mv/18wf18mn1c9bkwrp3fxhqr9c0000gp/T/ipykernel_22054/356917563.py:3: DtypeWarning: Columns (20,21) have mixed types. Specify dtype option on import or set low_memory=False.\n",
      "  temp_df = pd.read_csv(f'{project_dir}/tracking_week_{week}_extended.csv')\n",
      "/var/folders/mv/18wf18mn1c9bkwrp3fxhqr9c0000gp/T/ipykernel_22054/356917563.py:3: DtypeWarning: Columns (20,21) have mixed types. Specify dtype option on import or set low_memory=False.\n",
      "  temp_df = pd.read_csv(f'{project_dir}/tracking_week_{week}_extended.csv')\n",
      "/var/folders/mv/18wf18mn1c9bkwrp3fxhqr9c0000gp/T/ipykernel_22054/356917563.py:3: DtypeWarning: Columns (20,21) have mixed types. Specify dtype option on import or set low_memory=False.\n",
      "  temp_df = pd.read_csv(f'{project_dir}/tracking_week_{week}_extended.csv')\n"
     ]
    }
   ],
   "source": [
    "final_df = pd.DataFrame()\n",
    "for i in range(1, 10):\n",
    "    temp_df = pd.read_csv(f'{project_dir}/tracking_week_{week}_extended.csv')\n",
    "    final_df = pd.concat([final_df, temp_df])"
   ]
  },
  {
   "cell_type": "code",
   "execution_count": 101,
   "metadata": {},
   "outputs": [],
   "source": [
    "final_df.to_csv('tracking_weeks.csv', index=False)"
   ]
  },
  {
   "cell_type": "code",
   "execution_count": null,
   "metadata": {},
   "outputs": [],
   "source": [
    "git statu"
   ]
  }
 ],
 "metadata": {
  "kernelspec": {
   "display_name": "nfl_big_data_bowl_2025",
   "language": "python",
   "name": "python3"
  },
  "language_info": {
   "codemirror_mode": {
    "name": "ipython",
    "version": 3
   },
   "file_extension": ".py",
   "mimetype": "text/x-python",
   "name": "python",
   "nbconvert_exporter": "python",
   "pygments_lexer": "ipython3",
   "version": "3.13.1"
  }
 },
 "nbformat": 4,
 "nbformat_minor": 2
}
